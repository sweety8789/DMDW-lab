{
 "cells": [
  {
   "cell_type": "markdown",
   "metadata": {},
   "source": [
    "**Assignment-1\n",
    "\n",
    "Find the Mean,Median,Mode,Variance and Standard Deviation\n",
    "\n",
    "a)with using library functions\n",
    "\n",
    "b)without using library functions"
   ]
  },
  {
   "cell_type": "code",
   "execution_count": 5,
   "metadata": {},
   "outputs": [],
   "source": [
    " data=[10,9,10,8,11,12,21,19,23,22]\n"
   ]
  },
  {
   "cell_type": "markdown",
   "metadata": {},
   "source": [
    "a)with using library functions"
   ]
  },
  {
   "cell_type": "code",
   "execution_count": 6,
   "metadata": {},
   "outputs": [],
   "source": [
    "import numpy as np\n",
    "from scipy import stats\n"
   ]
  },
  {
   "cell_type": "code",
   "execution_count": 7,
   "metadata": {},
   "outputs": [
    {
     "name": "stdout",
     "output_type": "stream",
     "text": [
      "Mean = 14.5\n"
     ]
    }
   ],
   "source": [
    "\n",
    "#MEAN\n",
    "mean_is = np.mean(data)\n",
    "\n",
    "print(\"Mean =\",mean_is)"
   ]
  },
  {
   "cell_type": "code",
   "execution_count": 8,
   "metadata": {},
   "outputs": [
    {
     "name": "stdout",
     "output_type": "stream",
     "text": [
      "Median = 11.5\n"
     ]
    }
   ],
   "source": [
    "#MEDIAN\n",
    "\n",
    "median_is = np.median(data)\n",
    "\n",
    "print(\"Median =\",median_is)"
   ]
  },
  {
   "cell_type": "code",
   "execution_count": 9,
   "metadata": {},
   "outputs": [
    {
     "name": "stdout",
     "output_type": "stream",
     "text": [
      "Mode = ModeResult(mode=array([10]), count=array([2]))\n"
     ]
    }
   ],
   "source": [
    "#MODE\n",
    "\n",
    "mode_is= stats.mode(data)\n",
    "\n",
    "print(\"Mode =\",mode_is)"
   ]
  },
  {
   "cell_type": "code",
   "execution_count": 10,
   "metadata": {},
   "outputs": [
    {
     "name": "stdout",
     "output_type": "stream",
     "text": [
      "Standard Deviation = 5.678908345800274\n"
     ]
    }
   ],
   "source": [
    "#STANDARD DEVIATION\n",
    "\n",
    "std_is= np.std(data)\n",
    "\n",
    "print(\"Standard Deviation =\",std_is)"
   ]
  },
  {
   "cell_type": "code",
   "execution_count": 11,
   "metadata": {},
   "outputs": [
    {
     "name": "stdout",
     "output_type": "stream",
     "text": [
      "Variance = 32.25\n"
     ]
    }
   ],
   "source": [
    "#VARIANCE\n",
    "\n",
    "var_is = np.var(data)\n",
    "\n",
    "print(\"Variance =\",var_is)"
   ]
  },
  {
   "cell_type": "markdown",
   "metadata": {},
   "source": [
    "b)without using library functions"
   ]
  },
  {
   "cell_type": "code",
   "execution_count": 12,
   "metadata": {},
   "outputs": [
    {
     "name": "stdout",
     "output_type": "stream",
     "text": [
      "Mean = 14.5\n"
     ]
    }
   ],
   "source": [
    "#MEAN\n",
    "\n",
    "sum_of_data = sum(data)\n",
    "n = len(data)\n",
    "mean_of = sum_of_data/n\n",
    "\n",
    "print(\"Mean =\",mean_of)"
   ]
  },
  {
   "cell_type": "code",
   "execution_count": 13,
   "metadata": {},
   "outputs": [
    {
     "name": "stdout",
     "output_type": "stream",
     "text": [
      "Median = 11.5\n"
     ]
    }
   ],
   "source": [
    "#MEDIAN\n",
    "\n",
    "data.sort()\n",
    "n = len(data)\n",
    "if n%2 == 0:\n",
    "    median_of = (data[n//2]+data[n//2 - 1])/2\n",
    "else :\n",
    "    median_of = data[n//2]\n",
    "\n",
    "print(\"Median =\",median_of)"
   ]
  },
  {
   "cell_type": "code",
   "execution_count": 14,
   "metadata": {},
   "outputs": [
    {
     "name": "stdout",
     "output_type": "stream",
     "text": [
      "Mode = 8\n"
     ]
    }
   ],
   "source": [
    "#MODE\n",
    "\n",
    "max = 0\n",
    "for i in data: \n",
    "    if data.count(i) > max :\n",
    "        max = i\n",
    "mode_of = max\n",
    "\n",
    "print(\"Mode =\",mode_of)"
   ]
  },
  {
   "cell_type": "code",
   "execution_count": 15,
   "metadata": {},
   "outputs": [
    {
     "name": "stdout",
     "output_type": "stream",
     "text": [
      "Standard Deviation = 5.986094998689324\n"
     ]
    }
   ],
   "source": [
    "#STANDARD DEVIATION\n",
    "\n",
    "sum_of_data = sum(data)\n",
    "n = len(data)\n",
    "mean_of = sum_of_data/n\n",
    "\n",
    "\n",
    "sum_of_squares = 0\n",
    "for i in data :\n",
    "    sum_of_squares += (i - mean_of)**2\n",
    "    \n",
    "std_of = (sum_of_squares/(n-1))**(1/2)\n",
    "\n",
    "print(\"Standard Deviation =\",std_of)"
   ]
  },
  {
   "cell_type": "code",
   "execution_count": 16,
   "metadata": {},
   "outputs": [
    {
     "name": "stdout",
     "output_type": "stream",
     "text": [
      "Variance = 35.833333333333336\n"
     ]
    }
   ],
   "source": [
    "#VARIANCE\n",
    "\n",
    "sum_of_data = sum(data)\n",
    "n = len(data)\n",
    "mean_of = sum_of_data/n\n",
    "\n",
    "sum_of_squares = 0\n",
    "for i in data :\n",
    "    sum_of_squares += (i - mean_of)**2\n",
    "    \n",
    "std_of = (sum_of_squares/(n-1))**(1/2)\n",
    "\n",
    "var_of = std_of**2\n",
    "\n",
    "print(\"Variance =\",var_of)"
   ]
  },
  {
   "cell_type": "code",
   "execution_count": null,
   "metadata": {},
   "outputs": [],
   "source": []
  }
 ],
 "metadata": {
  "kernelspec": {
   "display_name": "Python 3",
   "language": "python",
   "name": "python3"
  },
  "language_info": {
   "codemirror_mode": {
    "name": "ipython",
    "version": 3
   },
   "file_extension": ".py",
   "mimetype": "text/x-python",
   "name": "python",
   "nbconvert_exporter": "python",
   "pygments_lexer": "ipython3",
   "version": "3.7.3"
  }
 },
 "nbformat": 4,
 "nbformat_minor": 2
}
